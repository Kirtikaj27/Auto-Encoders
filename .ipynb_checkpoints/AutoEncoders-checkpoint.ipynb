{
 "cells": [
  {
   "cell_type": "code",
   "execution_count": 1,
   "metadata": {},
   "outputs": [],
   "source": [
    "#import libraries\n",
    "import torch\n",
    "import numpy as np\n",
    "import matplotlib.pyplot as plt\n",
    "import torchvision.datasets as datasets\n",
    "import torchvision.transforms as transforms\n",
    "import torch.nn as nn\n",
    "import torch.nn.functional as F"
   ]
  },
  {
   "cell_type": "code",
   "execution_count": 2,
   "metadata": {},
   "outputs": [],
   "source": [
    "# Convert input to tensor\n",
    "input_to_tensor = transforms.ToTensor()"
   ]
  },
  {
   "cell_type": "code",
   "execution_count": 3,
   "metadata": {},
   "outputs": [],
   "source": [
    "#Prepare train and test datasets\n",
    "training_data = datasets.MNIST(root='data', train=True, download=True, transform=input_to_tensor)\n",
    "testing_data = datasets.MNIST(root='data', train=False, download=True, transform=input_to_tensor)"
   ]
  },
  {
   "cell_type": "code",
   "execution_count": 4,
   "metadata": {},
   "outputs": [],
   "source": [
    "# Create train and test data loaders\n",
    "batch_size = 20\n",
    "\n",
    "training_loader = torch.utils.data.DataLoader(training_data, batch_size=batch_size, shuffle=True)\n",
    "testing_loader = torch.utils.data.DataLoader(testing_data, batch_size=batch_size, shuffle=True)"
   ]
  },
  {
   "cell_type": "code",
   "execution_count": 5,
   "metadata": {},
   "outputs": [
    {
     "data": {
      "text/plain": [
       "<matplotlib.image.AxesImage at 0x1883531e0a0>"
      ]
     },
     "execution_count": 5,
     "metadata": {},
     "output_type": "execute_result"
    },
    {
     "data": {
      "image/png": "[encoded data removed]",
      "text/plain": [
       "<Figure size 432x432 with 1 Axes>"
      ]
     },
     "metadata": {
      "needs_background": "light"
     },
     "output_type": "display_data"
    }
   ],
   "source": [
    "# visualize the input\n",
    "%matplotlib inline\n",
    "\n",
    "# iterable\n",
    "dataiter = iter(training_loader) \n",
    "# iterator\n",
    "images, _ = dataiter.next() \n",
    "images = images.numpy()\n",
    "\n",
    "img = np.squeeze(images[7])\n",
    "\n",
    "fig = plt.figure(figsize = (6,6))\n",
    "ax = fig.add_subplot(111)\n",
    "ax.imshow(img, cmap='gray')"
   ]
  },
  {
   "cell_type": "code",
   "execution_count": 9,
   "metadata": {},
   "outputs": [
    {
     "name": "stdout",
     "output_type": "stream",
     "text": [
      "Autoencoder(\n",
      "  (conv1): Conv2d(1, 16, kernel_size=(3, 3), stride=(1, 1), padding=(1, 1))\n",
      "  (conv2): Conv2d(16, 4, kernel_size=(3, 3), stride=(1, 1), padding=(1, 1))\n",
      "  (pool): MaxPool2d(kernel_size=2, stride=2, padding=0, dilation=1, ceil_mode=False)\n",
      "  (conv3): Conv2d(4, 16, kernel_size=(3, 3), stride=(1, 1), padding=(1, 1))\n",
      "  (conv4): Conv2d(16, 1, kernel_size=(3, 3), stride=(1, 1), padding=(1, 1))\n",
      ")\n"
     ]
    }
   ],
   "source": [
    "# define the architecture of the network\n",
    "class Autoencoder(nn.Module):\n",
    "    def __init__(self):\n",
    "        super(Autoencoder, self).__init__()\n",
    "        \n",
    "        self.conv1 = nn.Conv2d(1, 16, 3, padding=1)  \n",
    "        self.conv2 = nn.Conv2d(16, 4, 3, padding=1)\n",
    "        \n",
    "        self.pool = nn.MaxPool2d(2, 2)\n",
    "        \n",
    "        self.conv3 = nn.Conv2d(4, 16, 3, padding=1)\n",
    "        self.conv4 = nn.Conv2d(16, 1, 3, padding=1)\n",
    "\n",
    "\n",
    "    def forward(self, x):\n",
    "        \n",
    "        x = F.relu(self.conv1(x))\n",
    "        x = self.pool(x)\n",
    "        x = F.relu(self.conv2(x))\n",
    "        x = self.pool(x)\n",
    "        \n",
    "        x = F.interpolate(x, scale_factor=2, mode=\"nearest\")\n",
    "        x = F.relu(self.conv3(x))\n",
    "        x = F.interpolate(x, scale_factor=2, mode=\"nearest\")\n",
    "        x = torch.sigmoid(self.conv4(x))\n",
    "                \n",
    "        return x\n",
    "\n",
    "# initialize the NN\n",
    "model = Autoencoder()\n",
    "print(model)"
   ]
  },
  {
   "cell_type": "code",
   "execution_count": 10,
   "metadata": {},
   "outputs": [],
   "source": [
    "# specify loss function\n",
    "model_loss = nn.MSELoss()"
   ]
  },
  {
   "cell_type": "code",
   "execution_count": 11,
   "metadata": {},
   "outputs": [],
   "source": [
    "# optimizer function\n",
    "optimizer = torch.optim.Adam(model.parameters(), lr=0.001)"
   ]
  },
  {
   "cell_type": "code",
   "execution_count": 13,
   "metadata": {},
   "outputs": [
    {
     "name": "stdout",
     "output_type": "stream",
     "text": [
      "Epoch: 1 \tTraining Loss: 0.283378\n",
      "Epoch: 2 \tTraining Loss: 0.152902\n",
      "Epoch: 3 \tTraining Loss: 0.141349\n",
      "Epoch: 4 \tTraining Loss: 0.135430\n",
      "Epoch: 5 \tTraining Loss: 0.132113\n",
      "Epoch: 6 \tTraining Loss: 0.129183\n",
      "Epoch: 7 \tTraining Loss: 0.126936\n",
      "Epoch: 8 \tTraining Loss: 0.125354\n",
      "Epoch: 9 \tTraining Loss: 0.124115\n",
      "Epoch: 10 \tTraining Loss: 0.123257\n",
      "Epoch: 11 \tTraining Loss: 0.122577\n",
      "Epoch: 12 \tTraining Loss: 0.121929\n",
      "Epoch: 13 \tTraining Loss: 0.121526\n",
      "Epoch: 14 \tTraining Loss: 0.121189\n",
      "Epoch: 15 \tTraining Loss: 0.120851\n",
      "Epoch: 16 \tTraining Loss: 0.120534\n",
      "Epoch: 17 \tTraining Loss: 0.120177\n",
      "Epoch: 18 \tTraining Loss: 0.119919\n",
      "Epoch: 19 \tTraining Loss: 0.119636\n",
      "Epoch: 20 \tTraining Loss: 0.119365\n",
      "Epoch: 21 \tTraining Loss: 0.119036\n",
      "Epoch: 22 \tTraining Loss: 0.118880\n",
      "Epoch: 23 \tTraining Loss: 0.118596\n",
      "Epoch: 24 \tTraining Loss: 0.118325\n",
      "Epoch: 25 \tTraining Loss: 0.118143\n",
      "Epoch: 26 \tTraining Loss: 0.117782\n",
      "Epoch: 27 \tTraining Loss: 0.117591\n",
      "Epoch: 28 \tTraining Loss: 0.117314\n",
      "Epoch: 29 \tTraining Loss: 0.117038\n",
      "Epoch: 30 \tTraining Loss: 0.116838\n"
     ]
    }
   ],
   "source": [
    "# train the model\n",
    "epochs = 30\n",
    "train_loss = 0.0\n",
    "\n",
    "for epoch in range(1, epochs+1):\n",
    "    for data in training_loader:\n",
    "        images, _ = data\n",
    "        optimizer.zero_grad()\n",
    "        outputs = model(images)\n",
    "        loss = model_loss(outputs, images)\n",
    "        loss.backward()\n",
    "        optimizer.step()\n",
    "        train_loss += loss.item()*images.size(0)\n",
    "            \n",
    "    train_loss = train_loss/len(training_loader)\n",
    "    \n",
    "    print('Epoch: {} \\tTraining Loss: {:.6f}'.format(\n",
    "        epoch, \n",
    "        train_loss\n",
    "        ))"
   ]
  },
  {
   "cell_type": "code",
   "execution_count": 16,
   "metadata": {},
   "outputs": [
    {
     "data": {
      "image/png": "[encoded data removed]",
      "text/plain": [
       "<Figure size 1800x288 with 20 Axes>"
      ]
     },
     "metadata": {
      "needs_background": "light"
     },
     "output_type": "display_data"
    }
   ],
   "source": [
    "dataiter = iter(testing_loader)\n",
    "images, labels = dataiter.next()\n",
    "output = model(images)\n",
    "output = output.detach().numpy()\n",
    "images = images.numpy()\n",
    "\n",
    "# # output is resized into a batch of iages\n",
    "# output = output.view(batch_size, 1, 28, 28)\n",
    "# # use detach when it's an output that requires_grad\n",
    "\n",
    "fig, axes = plt.subplots(nrows=2, ncols=10, sharex=True, sharey=True, figsize=(25,4))\n",
    "for images, row in zip([images, output], axes):\n",
    "    for img, ax in zip(images, row):\n",
    "        ax.imshow(np.squeeze(img), cmap='gray')\n",
    "        ax.get_xaxis().set_visible(False)\n",
    "        ax.get_yaxis().set_visible(False)"
   ]
  },
  {
   "cell_type": "code",
   "execution_count": 24,
   "metadata": {},
   "outputs": [
    {
     "name": "stdout",
     "output_type": "stream",
     "text": [
      "Denoiser(\n",
      "  (conv1): Conv2d(1, 32, kernel_size=(3, 3), stride=(1, 1), padding=(1, 1))\n",
      "  (conv2): Conv2d(32, 16, kernel_size=(3, 3), stride=(1, 1), padding=(1, 1))\n",
      "  (conv3): Conv2d(16, 8, kernel_size=(3, 3), stride=(1, 1), padding=(1, 1))\n",
      "  (pool): MaxPool2d(kernel_size=2, stride=2, padding=0, dilation=1, ceil_mode=False)\n",
      "  (t_conv1): ConvTranspose2d(8, 8, kernel_size=(3, 3), stride=(2, 2))\n",
      "  (t_conv2): ConvTranspose2d(8, 16, kernel_size=(2, 2), stride=(2, 2))\n",
      "  (t_conv3): ConvTranspose2d(16, 32, kernel_size=(2, 2), stride=(2, 2))\n",
      "  (conv_out): Conv2d(32, 1, kernel_size=(3, 3), stride=(1, 1), padding=(1, 1))\n",
      ")\n"
     ]
    }
   ],
   "source": [
    "# Denoiser Auto encoder\n",
    "class Denoiser(nn.Module):\n",
    "    def __init__(self):\n",
    "        super(Denoiser, self).__init__()\n",
    "        self.conv1 = nn.Conv2d(1, 32, 3, padding=1)  \n",
    "        self.conv2 = nn.Conv2d(32, 16, 3, padding=1)\n",
    "        self.conv3 = nn.Conv2d(16, 8, 3, padding=1)\n",
    "        self.pool = nn.MaxPool2d(2, 2)\n",
    "        # 7x7 image output\n",
    "        self.t_conv1 = nn.ConvTranspose2d(8, 8, 3, stride=2) \n",
    "        self.t_conv2 = nn.ConvTranspose2d(8, 16, 2, stride=2)\n",
    "        self.t_conv3 = nn.ConvTranspose2d(16, 32, 2, stride=2)\n",
    "        self.conv_out = nn.Conv2d(32, 1, 3, padding=1)\n",
    "\n",
    "\n",
    "    def forward(self, x):\n",
    "        x = F.relu(self.conv1(x))\n",
    "        x = self.pool(x)\n",
    "        x = F.relu(self.conv2(x))\n",
    "        x = self.pool(x)\n",
    "        x = F.relu(self.conv3(x))\n",
    "        # compressed representation\n",
    "        x = self.pool(x)  \n",
    "        \n",
    "        x = F.relu(self.t_conv1(x))\n",
    "        x = F.relu(self.t_conv2(x))\n",
    "        x = F.relu(self.t_conv3(x))\n",
    "        x = torch.sigmoid(self.conv_out(x))\n",
    "                \n",
    "        return x\n",
    "\n",
    "model = Denoiser()\n",
    "print(model)"
   ]
  },
  {
   "cell_type": "code",
   "execution_count": 25,
   "metadata": {},
   "outputs": [],
   "source": [
    "# specify loss function\n",
    "model_loss = nn.MSELoss()"
   ]
  },
  {
   "cell_type": "code",
   "execution_count": 26,
   "metadata": {},
   "outputs": [],
   "source": [
    "# optimizer function\n",
    "optimizer = torch.optim.Adam(model.parameters(), lr=0.001)"
   ]
  },
  {
   "cell_type": "code",
   "execution_count": 27,
   "metadata": {},
   "outputs": [
    {
     "name": "stdout",
     "output_type": "stream",
     "text": [
      "Epoch: 1 \tTraining Loss: 0.898604\n",
      "Epoch: 2 \tTraining Loss: 0.578097\n",
      "Epoch: 3 \tTraining Loss: 0.528878\n",
      "Epoch: 4 \tTraining Loss: 0.503862\n",
      "Epoch: 5 \tTraining Loss: 0.485637\n",
      "Epoch: 6 \tTraining Loss: 0.468983\n",
      "Epoch: 7 \tTraining Loss: 0.457774\n",
      "Epoch: 8 \tTraining Loss: 0.448304\n",
      "Epoch: 9 \tTraining Loss: 0.441260\n",
      "Epoch: 10 \tTraining Loss: 0.436318\n",
      "Epoch: 11 \tTraining Loss: 0.430891\n",
      "Epoch: 12 \tTraining Loss: 0.426352\n",
      "Epoch: 13 \tTraining Loss: 0.421804\n",
      "Epoch: 14 \tTraining Loss: 0.418356\n",
      "Epoch: 15 \tTraining Loss: 0.414596\n",
      "Epoch: 16 \tTraining Loss: 0.411115\n",
      "Epoch: 17 \tTraining Loss: 0.405319\n",
      "Epoch: 18 \tTraining Loss: 0.400492\n",
      "Epoch: 19 \tTraining Loss: 0.396643\n",
      "Epoch: 20 \tTraining Loss: 0.392581\n",
      "Epoch: 21 \tTraining Loss: 0.388929\n",
      "Epoch: 22 \tTraining Loss: 0.386463\n",
      "Epoch: 23 \tTraining Loss: 0.382880\n",
      "Epoch: 24 \tTraining Loss: 0.381404\n",
      "Epoch: 25 \tTraining Loss: 0.379291\n",
      "Epoch: 26 \tTraining Loss: 0.376441\n",
      "Epoch: 27 \tTraining Loss: 0.375145\n",
      "Epoch: 28 \tTraining Loss: 0.373756\n",
      "Epoch: 29 \tTraining Loss: 0.372285\n",
      "Epoch: 30 \tTraining Loss: 0.371250\n"
     ]
    }
   ],
   "source": [
    "# train the model\n",
    "epochs = 30\n",
    "train_loss = 0.0\n",
    "noise_factor = 0.5\n",
    "\n",
    "for epoch in range(1, epochs+1):\n",
    "    for data in training_loader:\n",
    "        images, _ = data\n",
    "        noisy_imgs = images + noise_factor * torch.randn(*images.shape)\n",
    "        noisy_imgs = np.clip(noisy_imgs, 0., 1.)\n",
    "        optimizer.zero_grad()\n",
    "        outputs = model(noisy_imgs)\n",
    "        loss = model_loss(outputs, images)\n",
    "        loss.backward()\n",
    "        optimizer.step()\n",
    "        train_loss += loss.item()*images.size(0)\n",
    "            \n",
    "    train_loss = train_loss/len(training_loader)\n",
    "    \n",
    "    print('Epoch: {} \\tTraining Loss: {:.6f}'.format(\n",
    "        epoch, \n",
    "        train_loss\n",
    "        ))"
   ]
  },
  {
   "cell_type": "code",
   "execution_count": 28,
   "metadata": {},
   "outputs": [
    {
     "data": {
      "image/png": "[encoded data removed]",
      "text/plain": [
       "<Figure size 1800x288 with 20 Axes>"
      ]
     },
     "metadata": {
      "needs_background": "light"
     },
     "output_type": "display_data"
    }
   ],
   "source": [
    "# obtain one batch of test images\n",
    "dataiter = iter(testing_loader)\n",
    "images, labels = dataiter.next()\n",
    "\n",
    "noisy_imgs = images + noise_factor * torch.randn(*images.shape)\n",
    "noisy_imgs = np.clip(noisy_imgs, 0., 1.)\n",
    "\n",
    "output = model(noisy_imgs)\n",
    "noisy_imgs = noisy_imgs.numpy()\n",
    "\n",
    "output = output.view(batch_size, 1, 28, 28)\n",
    "output = output.detach().numpy()\n",
    "\n",
    "fig, axes = plt.subplots(nrows=2, ncols=10, sharex=True, sharey=True, figsize=(25,4))\n",
    "for noisy_imgs, row in zip([noisy_imgs, output], axes):\n",
    "    for img, ax in zip(noisy_imgs, row):\n",
    "        ax.imshow(np.squeeze(img), cmap='gray')\n",
    "        ax.get_xaxis().set_visible(False)\n",
    "        ax.get_yaxis().set_visible(False)"
   ]
  }
 ],
 "metadata": {
  "kernelspec": {
   "display_name": "Python 3",
   "language": "python",
   "name": "python3"
  },
  "language_info": {
   "codemirror_mode": {
    "name": "ipython",
    "version": 3
   },
   "file_extension": ".py",
   "mimetype": "text/x-python",
   "name": "python",
   "nbconvert_exporter": "python",
   "pygments_lexer": "ipython3",
   "version": "3.8.2"
  }
 },
 "nbformat": 4,
 "nbformat_minor": 4
}
